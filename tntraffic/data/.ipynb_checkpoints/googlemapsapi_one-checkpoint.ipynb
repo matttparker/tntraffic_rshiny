{
 "cells": [
  {
   "cell_type": "code",
   "execution_count": 1,
   "metadata": {},
   "outputs": [],
   "source": [
    "import pandas as pd\n",
    "pd.set_option('display.width', 1000)\n",
    "pd.set_option('display.max_rows', 500)\n",
    "pd.set_option('display.max_columns', 500)"
   ]
  },
  {
   "cell_type": "code",
   "execution_count": 2,
   "metadata": {},
   "outputs": [],
   "source": [
    "import requests"
   ]
  },
  {
   "cell_type": "code",
   "execution_count": 4,
   "metadata": {},
   "outputs": [],
   "source": [
    "counties = pd.read_csv('data/county_list.csv',encoding= 'unicode_escape')"
   ]
  },
  {
   "cell_type": "code",
   "execution_count": 6,
   "metadata": {},
   "outputs": [
    {
     "data": {
      "text/html": [
       "<div>\n",
       "<style scoped>\n",
       "    .dataframe tbody tr th:only-of-type {\n",
       "        vertical-align: middle;\n",
       "    }\n",
       "\n",
       "    .dataframe tbody tr th {\n",
       "        vertical-align: top;\n",
       "    }\n",
       "\n",
       "    .dataframe thead th {\n",
       "        text-align: right;\n",
       "    }\n",
       "</style>\n",
       "<table border=\"1\" class=\"dataframe\">\n",
       "  <thead>\n",
       "    <tr style=\"text-align: right;\">\n",
       "      <th></th>\n",
       "      <th>counties$COUNTY</th>\n",
       "    </tr>\n",
       "  </thead>\n",
       "  <tbody>\n",
       "    <tr>\n",
       "      <th>0</th>\n",
       "      <td>Stewart</td>\n",
       "    </tr>\n",
       "    <tr>\n",
       "      <th>1</th>\n",
       "      <td>Robertson</td>\n",
       "    </tr>\n",
       "    <tr>\n",
       "      <th>2</th>\n",
       "      <td>Sumner</td>\n",
       "    </tr>\n",
       "  </tbody>\n",
       "</table>\n",
       "</div>"
      ],
      "text/plain": [
       "  counties$COUNTY\n",
       "0         Stewart\n",
       "1       Robertson\n",
       "2          Sumner"
      ]
     },
     "execution_count": 6,
     "metadata": {},
     "output_type": "execute_result"
    }
   ],
   "source": [
    "counties.head(3)"
   ]
  },
  {
   "cell_type": "code",
   "execution_count": 7,
   "metadata": {},
   "outputs": [
    {
     "data": {
      "text/plain": [
       "(99, 1)"
      ]
     },
     "execution_count": 7,
     "metadata": {},
     "output_type": "execute_result"
    }
   ],
   "source": [
    "counties.shape"
   ]
  },
  {
   "cell_type": "code",
   "execution_count": 10,
   "metadata": {},
   "outputs": [
    {
     "data": {
      "text/plain": [
       "99"
      ]
     },
     "execution_count": 10,
     "metadata": {},
     "output_type": "execute_result"
    }
   ],
   "source": [
    "county_list = counties['counties$COUNTY'].tolist()\n",
    "#Make dataframe to a list\n",
    "len(county_list)"
   ]
  },
  {
   "cell_type": "code",
   "execution_count": 8,
   "metadata": {},
   "outputs": [],
   "source": [
    "API_KEY = pd.read_csv('api_key_work.txt', sep=\" \", header=None).iloc[0,0]"
   ]
  },
  {
   "cell_type": "code",
   "execution_count": null,
   "metadata": {},
   "outputs": [],
   "source": []
  },
  {
   "cell_type": "code",
   "execution_count": 10,
   "metadata": {},
   "outputs": [],
   "source": [
    "def get_google_results(address, api_key=None):\n",
    "\n",
    "    geocode_url = \"https://maps.googleapis.com/maps/api/geocode/json?address={}\".format(address)\n",
    "    if api_key is not None:\n",
    "        geocode_url = geocode_url + \"&key={}\".format(api_key)\n",
    "        \n",
    "    results = requests.get(geocode_url)\n",
    "    results = results.json()\n",
    "    \n",
    "    if len(results['results']) == 0:\n",
    "        output = {\n",
    "            \"formatted_address\" : None,\n",
    "            \"latitude\": None,\n",
    "            \"longitude\": None,\n",
    "            \"accuracy\": None,\n",
    "            \"google_place_id\": None,\n",
    "            \"type\": None,\n",
    "            \"postcode\": None\n",
    "        }\n",
    "    else:    \n",
    "        answer = results['results'][0]\n",
    "        output = {\n",
    "            \"formatted_address\" : answer.get('formatted_address'),\n",
    "            \"latitude\": answer.get('geometry').get('location').get('lat'),\n",
    "            \"longitude\": answer.get('geometry').get('location').get('lng'),\n",
    "            \"location_type\": answer.get('geometry').get('location_type'),\n",
    "            \"place_id\": answer.get(\"place_id\"),\n",
    "            \"types\": \",\".join(answer.get('types')),\n",
    "            \"partial_match\" : answer.get('partial_match'),\n",
    "            \"postcode\": \",\".join([x['long_name'] for x in answer.get('address_components') \n",
    "                                  if 'postal_code' in x.get('types')])\n",
    "        }\n",
    "        \n",
    "    # Append some other details:    \n",
    "    output['input_string'] = address\n",
    "    output['number_of_results'] = len(results['results'])\n",
    "    output['status'] = results.get('status')\n",
    "    \n",
    "    return output"
   ]
  },
  {
   "cell_type": "code",
   "execution_count": 11,
   "metadata": {},
   "outputs": [
    {
     "data": {
      "text/plain": [
       "{'formatted_address': '735 E Main St, Hendersonville, TN 37075, USA',\n",
       " 'latitude': 36.3268836,\n",
       " 'longitude': -86.5591469,\n",
       " 'location_type': 'ROOFTOP',\n",
       " 'place_id': 'ChIJ1dQmQ-s4ZIgRSqWf0GqNRuM',\n",
       " 'types': 'establishment,point_of_interest,travel_agency',\n",
       " 'partial_match': None,\n",
       " 'postcode': '37075',\n",
       " 'input_string': 'str,hendersonville, tn',\n",
       " 'number_of_results': 1,\n",
       " 'status': 'OK'}"
      ]
     },
     "execution_count": 11,
     "metadata": {},
     "output_type": "execute_result"
    }
   ],
   "source": [
    "#Test!\n",
    "geocode_result = get_google_results('str,hendersonville, tn', API_KEY)\n",
    "geocode_result"
   ]
  },
  {
   "cell_type": "code",
   "execution_count": 12,
   "metadata": {},
   "outputs": [
    {
     "data": {
      "text/plain": [
       "108"
      ]
     },
     "execution_count": 12,
     "metadata": {},
     "output_type": "execute_result"
    }
   ],
   "source": [
    "len(addresses)"
   ]
  },
  {
   "cell_type": "code",
   "execution_count": 15,
   "metadata": {},
   "outputs": [],
   "source": [
    "results = []\n",
    "for address in addresses:\n",
    "    try:\n",
    "        geocode_result = get_google_results(address, API_KEY)\n",
    "    except:\n",
    "        None\n",
    "            \n",
    "    results.append(geocode_result)           \n",
    "\n",
    "    if len(results) % 5 == 0:\n",
    "        pd.DataFrame(results).to_csv(\"{}_bak.csv\".format('datadumpresults'), index = False)\n",
    "\n",
    "pd.DataFrame(results).to_csv('datadumpresults.csv', encoding='utf8', index = False)"
   ]
  },
  {
   "cell_type": "code",
   "execution_count": 16,
   "metadata": {},
   "outputs": [
    {
     "data": {
      "text/html": [
       "<div>\n",
       "<style scoped>\n",
       "    .dataframe tbody tr th:only-of-type {\n",
       "        vertical-align: middle;\n",
       "    }\n",
       "\n",
       "    .dataframe tbody tr th {\n",
       "        vertical-align: top;\n",
       "    }\n",
       "\n",
       "    .dataframe thead th {\n",
       "        text-align: right;\n",
       "    }\n",
       "</style>\n",
       "<table border=\"1\" class=\"dataframe\">\n",
       "  <thead>\n",
       "    <tr style=\"text-align: right;\">\n",
       "      <th></th>\n",
       "      <th>accuracy</th>\n",
       "      <th>formatted_address</th>\n",
       "      <th>google_place_id</th>\n",
       "      <th>input_string</th>\n",
       "      <th>latitude</th>\n",
       "      <th>location_type</th>\n",
       "      <th>longitude</th>\n",
       "      <th>number_of_results</th>\n",
       "      <th>partial_match</th>\n",
       "      <th>place_id</th>\n",
       "      <th>postcode</th>\n",
       "      <th>status</th>\n",
       "      <th>type</th>\n",
       "      <th>types</th>\n",
       "    </tr>\n",
       "  </thead>\n",
       "  <tbody>\n",
       "    <tr>\n",
       "      <th>103</th>\n",
       "      <td>NaN</td>\n",
       "      <td>739 Smelcer St, Seymour, TN 37865, USA</td>\n",
       "      <td>NaN</td>\n",
       "      <td>Smelcer St ! - 739B (Seymour) - B,739 Smelcer ...</td>\n",
       "      <td>35.846579</td>\n",
       "      <td>ROOFTOP</td>\n",
       "      <td>-83.759490</td>\n",
       "      <td>2</td>\n",
       "      <td>True</td>\n",
       "      <td>ChIJT-G-fKwEXIgRHB4AZh-xx1o</td>\n",
       "      <td>37865.0</td>\n",
       "      <td>OK</td>\n",
       "      <td>NaN</td>\n",
       "      <td>street_address</td>\n",
       "    </tr>\n",
       "    <tr>\n",
       "      <th>104</th>\n",
       "      <td>NaN</td>\n",
       "      <td>7460 Twin Brooks Blvd, Knoxville, TN 37918, USA</td>\n",
       "      <td>NaN</td>\n",
       "      <td>Twin Brooks Blvd-  7460 - 1,7460 Twin Brooks B...</td>\n",
       "      <td>36.107905</td>\n",
       "      <td>ROOFTOP</td>\n",
       "      <td>-83.876685</td>\n",
       "      <td>1</td>\n",
       "      <td>NaN</td>\n",
       "      <td>ChIJgWPM3jJrXIgRTumXb5MMoT4</td>\n",
       "      <td>37918.0</td>\n",
       "      <td>OK</td>\n",
       "      <td>NaN</td>\n",
       "      <td>premise</td>\n",
       "    </tr>\n",
       "    <tr>\n",
       "      <th>105</th>\n",
       "      <td>NaN</td>\n",
       "      <td>822 W Locust St #1A, Johnson City, TN 37604, USA</td>\n",
       "      <td>NaN</td>\n",
       "      <td>The Treeage - 822 W Locust - 1A,822 West Locus...</td>\n",
       "      <td>36.305164</td>\n",
       "      <td>ROOFTOP</td>\n",
       "      <td>-82.362120</td>\n",
       "      <td>1</td>\n",
       "      <td>True</td>\n",
       "      <td>EjA4MjIgVyBMb2N1c3QgU3QgIzFBLCBKb2huc29uIENpdH...</td>\n",
       "      <td>37604.0</td>\n",
       "      <td>OK</td>\n",
       "      <td>NaN</td>\n",
       "      <td>subpremise</td>\n",
       "    </tr>\n",
       "    <tr>\n",
       "      <th>106</th>\n",
       "      <td>NaN</td>\n",
       "      <td>822 W Locust St #1B, Johnson City, TN 37604, USA</td>\n",
       "      <td>NaN</td>\n",
       "      <td>The Treeage - 822 W Locust - 1B,822 West Locus...</td>\n",
       "      <td>36.305164</td>\n",
       "      <td>ROOFTOP</td>\n",
       "      <td>-82.362120</td>\n",
       "      <td>1</td>\n",
       "      <td>True</td>\n",
       "      <td>EjA4MjIgVyBMb2N1c3QgU3QgIzFCLCBKb2huc29uIENpdH...</td>\n",
       "      <td>37604.0</td>\n",
       "      <td>OK</td>\n",
       "      <td>NaN</td>\n",
       "      <td>subpremise</td>\n",
       "    </tr>\n",
       "    <tr>\n",
       "      <th>107</th>\n",
       "      <td>NaN</td>\n",
       "      <td>822 W Locust St #1D, Johnson City, TN 37604, USA</td>\n",
       "      <td>NaN</td>\n",
       "      <td>The Treeage - 822 W Locust - 1D,822 West Locus...</td>\n",
       "      <td>36.305164</td>\n",
       "      <td>ROOFTOP</td>\n",
       "      <td>-82.362120</td>\n",
       "      <td>1</td>\n",
       "      <td>True</td>\n",
       "      <td>EjA4MjIgVyBMb2N1c3QgU3QgIzFELCBKb2huc29uIENpdH...</td>\n",
       "      <td>37604.0</td>\n",
       "      <td>OK</td>\n",
       "      <td>NaN</td>\n",
       "      <td>subpremise</td>\n",
       "    </tr>\n",
       "  </tbody>\n",
       "</table>\n",
       "</div>"
      ],
      "text/plain": [
       "     accuracy                                 formatted_address  google_place_id                                       input_string   latitude location_type  longitude  number_of_results partial_match                                           place_id  postcode status  type           types\n",
       "103       NaN            739 Smelcer St, Seymour, TN 37865, USA              NaN  Smelcer St ! - 739B (Seymour) - B,739 Smelcer ...  35.846579       ROOFTOP -83.759490                  2          True                        ChIJT-G-fKwEXIgRHB4AZh-xx1o   37865.0     OK   NaN  street_address\n",
       "104       NaN   7460 Twin Brooks Blvd, Knoxville, TN 37918, USA              NaN  Twin Brooks Blvd-  7460 - 1,7460 Twin Brooks B...  36.107905       ROOFTOP -83.876685                  1           NaN                        ChIJgWPM3jJrXIgRTumXb5MMoT4   37918.0     OK   NaN         premise\n",
       "105       NaN  822 W Locust St #1A, Johnson City, TN 37604, USA              NaN  The Treeage - 822 W Locust - 1A,822 West Locus...  36.305164       ROOFTOP -82.362120                  1          True  EjA4MjIgVyBMb2N1c3QgU3QgIzFBLCBKb2huc29uIENpdH...   37604.0     OK   NaN      subpremise\n",
       "106       NaN  822 W Locust St #1B, Johnson City, TN 37604, USA              NaN  The Treeage - 822 W Locust - 1B,822 West Locus...  36.305164       ROOFTOP -82.362120                  1          True  EjA4MjIgVyBMb2N1c3QgU3QgIzFCLCBKb2huc29uIENpdH...   37604.0     OK   NaN      subpremise\n",
       "107       NaN  822 W Locust St #1D, Johnson City, TN 37604, USA              NaN  The Treeage - 822 W Locust - 1D,822 West Locus...  36.305164       ROOFTOP -82.362120                  1          True  EjA4MjIgVyBMb2N1c3QgU3QgIzFELCBKb2huc29uIENpdH...   37604.0     OK   NaN      subpremise"
      ]
     },
     "execution_count": 16,
     "metadata": {},
     "output_type": "execute_result"
    }
   ],
   "source": [
    "final_results = pd.read_csv('datadumpresults.csv')\n",
    "final_results.tail()"
   ]
  },
  {
   "cell_type": "code",
   "execution_count": null,
   "metadata": {},
   "outputs": [],
   "source": []
  }
 ],
 "metadata": {
  "kernelspec": {
   "display_name": "Python 3",
   "language": "python",
   "name": "python3"
  },
  "language_info": {
   "codemirror_mode": {
    "name": "ipython",
    "version": 3
   },
   "file_extension": ".py",
   "mimetype": "text/x-python",
   "name": "python",
   "nbconvert_exporter": "python",
   "pygments_lexer": "ipython3",
   "version": "3.8.5"
  }
 },
 "nbformat": 4,
 "nbformat_minor": 4
}
